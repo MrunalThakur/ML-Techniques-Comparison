{
  "nbformat": 4,
  "nbformat_minor": 0,
  "metadata": {
    "colab": {
      "name": "cifar10.ipynb",
      "provenance": [],
      "collapsed_sections": []
    },
    "kernelspec": {
      "name": "python3",
      "display_name": "Python 3"
    },
    "accelerator": "GPU"
  },
  "cells": [
    {
      "metadata": {
        "id": "lrJkUXsbf_ZK"
      },
      "cell_type": "markdown",
      "source": [
        "**Loading Required Libraries and Files**"
      ]
    },
    {
      "metadata": {
        "id": "gWPxLijQCBJk"
      },
      "cell_type": "code",
      "source": [
        "from keras.datasets import cifar10\n",
        "\n",
        "import matplotlib.pyplot as plt\n",
        "import numpy as np\n",
        "from sklearn.decomposition import PCA\n",
        "from sklearn.metrics import classification_report, confusion_matrix, accuracy_score\n",
        "from sklearn.decomposition import PCA\n",
        "\n",
        "from sklearn import svm\n",
        "from sklearn.ensemble import RandomForestClassifier\n",
        "from sklearn.neighbors import KNeighborsClassifier\n",
        "from sklearn.linear_model import LogisticRegression"
      ],
      "execution_count": 1,
      "outputs": []
    },
    {
      "cell_type": "code",
      "source": [
        "(x_train, y_train), (x_test, y_test) = cifar10.load_data()\n",
        "\n",
        "x_train = x_train / 255.0\n",
        "x_test = x_test / 255.0"
      ],
      "metadata": {
        "colab": {
          "base_uri": "https://localhost:8080/",
          "height": 0
        },
        "id": "WJwTy2d8cdvq",
        "outputId": "41e201ce-efb3-4320-c249-cb61a0478526"
      },
      "execution_count": 2,
      "outputs": [
        {
          "output_type": "stream",
          "name": "stdout",
          "text": [
            "Downloading data from https://www.cs.toronto.edu/~kriz/cifar-10-python.tar.gz\n",
            "170500096/170498071 [==============================] - 3s 0us/step\n",
            "170508288/170498071 [==============================] - 3s 0us/step\n"
          ]
        }
      ]
    },
    {
      "cell_type": "code",
      "source": [
        "x_train.shape\n",
        "x_test.shape"
      ],
      "metadata": {
        "colab": {
          "base_uri": "https://localhost:8080/",
          "height": 0
        },
        "id": "5zRHOAZycu6x",
        "outputId": "1277f203-3f5a-4d96-fff3-4b2d57e6841a"
      },
      "execution_count": 3,
      "outputs": [
        {
          "output_type": "execute_result",
          "data": {
            "text/plain": [
              "(10000, 32, 32, 3)"
            ]
          },
          "metadata": {},
          "execution_count": 3
        }
      ]
    },
    {
      "metadata": {
        "id": "sPj06ytUTEoI"
      },
      "cell_type": "code",
      "source": [
        "x_train = x_train.reshape(x_train.shape[0],-1)\n",
        "x_test = x_test.reshape(x_test.shape[0], -1)"
      ],
      "execution_count": 4,
      "outputs": []
    },
    {
      "metadata": {
        "id": "0KDNaY7rgJRR"
      },
      "cell_type": "markdown",
      "source": [
        "**Applied PCA to the Features of Cifar**"
      ]
    },
    {
      "metadata": {
        "id": "aOaaKHXtTOXi",
        "colab": {
          "base_uri": "https://localhost:8080/",
          "height": 0
        },
        "outputId": "adcc31d5-5311-4d1a-e819-2bead0eddb8f"
      },
      "cell_type": "code",
      "source": [
        "pca = PCA()\n",
        "pca.fit_transform(x_train)"
      ],
      "execution_count": 5,
      "outputs": [
        {
          "output_type": "execute_result",
          "data": {
            "text/plain": [
              "array([[-6.40101763e+00,  2.72903876e+00,  1.50171052e+00, ...,\n",
              "        -7.62287826e-04, -1.16359323e-03, -3.49768400e-04],\n",
              "       [ 8.29783385e-01, -9.49943219e-01,  6.00375260e+00, ...,\n",
              "         1.08434589e-04,  5.76715387e-04, -7.71005927e-04],\n",
              "       [ 7.73019978e+00, -1.15221023e+01, -2.75362051e+00, ...,\n",
              "        -1.04460109e-03, -2.14105740e-04, -3.93469526e-04],\n",
              "       ...,\n",
              "       [ 7.07346587e-01, -1.13425212e+01, -3.93914878e-01, ...,\n",
              "        -3.80341568e-04,  1.86432348e-03,  1.44785229e-03],\n",
              "       [ 1.13679090e+01, -3.37597765e+00,  5.56619766e+00, ...,\n",
              "        -4.67096832e-04,  7.44972963e-04, -1.67065056e-03],\n",
              "       [ 4.19279645e+00, -1.18418848e+00, -4.44596297e+00, ...,\n",
              "         9.67968258e-04,  2.40363971e-04, -2.80506224e-05]])"
            ]
          },
          "metadata": {},
          "execution_count": 5
        }
      ]
    },
    {
      "metadata": {
        "id": "_tw6ULt_TdKJ",
        "colab": {
          "base_uri": "https://localhost:8080/",
          "height": 0
        },
        "outputId": "33bc6283-1997-4a22-c520-d889f8a0c1e3"
      },
      "cell_type": "code",
      "source": [
        "pca.explained_variance_.shape"
      ],
      "execution_count": 6,
      "outputs": [
        {
          "output_type": "execute_result",
          "data": {
            "text/plain": [
              "(3072,)"
            ]
          },
          "metadata": {},
          "execution_count": 6
        }
      ]
    },
    {
      "metadata": {
        "id": "nJswFII4gXpS"
      },
      "cell_type": "markdown",
      "source": [
        "**the optimal value of K  decided **"
      ]
    },
    {
      "metadata": {
        "id": "h2zX8zaOVMBL",
        "colab": {
          "base_uri": "https://localhost:8080/",
          "height": 0
        },
        "outputId": "cc06dac6-bdca-4016-f4e5-5e2166746a20"
      },
      "cell_type": "code",
      "source": [
        "# Calculating optimal k\n",
        "\n",
        "k = 0\n",
        "total = sum(pca.explained_variance_)\n",
        "current_sum = 0\n",
        "\n",
        "while(current_sum / total < 0.98):\n",
        "    current_sum += pca.explained_variance_[k]\n",
        "    k += 1\n",
        "k"
      ],
      "execution_count": 7,
      "outputs": [
        {
          "output_type": "execute_result",
          "data": {
            "text/plain": [
              "444"
            ]
          },
          "metadata": {},
          "execution_count": 7
        }
      ]
    },
    {
      "metadata": {
        "id": "F2ZQir9FVSYu"
      },
      "cell_type": "code",
      "source": [
        "## Applying PCA with k calcuated above\n",
        "\n",
        "pca = PCA(n_components=k, whiten=True, svd_solver='randomized')\n",
        "\n",
        "x_train_pca = pca.fit_transform(x_train)\n",
        "x_test_pca = pca.transform(x_test)"
      ],
      "execution_count": 8,
      "outputs": []
    },
    {
      "metadata": {
        "id": "xrDONQSigyhs"
      },
      "cell_type": "markdown",
      "source": [
        "### Using Randomforest Classifier on the Cifar data !"
      ]
    },
    {
      "metadata": {
        "id": "zTRLWWSyVltK",
        "colab": {
          "base_uri": "https://localhost:8080/",
          "height": 0
        },
        "outputId": "2811bf82-353b-41e6-c709-410a69d3ee9d"
      },
      "cell_type": "code",
      "source": [
        "rf = RandomForestClassifier()\n",
        "rf.fit(x_train_pca, y_train)\n",
        "\n",
        "y_pred_rf = rf.predict(x_test_pca)\n",
        "\n",
        "random_forest_score = accuracy_score(y_test, y_pred_rf)\n",
        "print(random_forest_score)"
      ],
      "execution_count": 9,
      "outputs": [
        {
          "output_type": "stream",
          "name": "stderr",
          "text": [
            "/usr/local/lib/python3.7/dist-packages/ipykernel_launcher.py:2: DataConversionWarning: A column-vector y was passed when a 1d array was expected. Please change the shape of y to (n_samples,), for example using ravel().\n",
            "  \n"
          ]
        },
        {
          "output_type": "stream",
          "name": "stdout",
          "text": [
            "0.4153\n"
          ]
        }
      ]
    },
    {
      "cell_type": "code",
      "source": [
        ""
      ],
      "metadata": {
        "id": "x4h1flNAqBO9"
      },
      "execution_count": null,
      "outputs": []
    },
    {
      "cell_type": "code",
      "source": [
        ""
      ],
      "metadata": {
        "id": "pH0ldSZap9c-"
      },
      "execution_count": null,
      "outputs": []
    },
    {
      "metadata": {
        "id": "L38fX-F3g_Yp"
      },
      "cell_type": "markdown",
      "source": [
        "### Using LogisticsRegression classifier"
      ]
    },
    {
      "metadata": {
        "id": "Bjy8AljtZCI0",
        "colab": {
          "base_uri": "https://localhost:8080/",
          "height": 0
        },
        "outputId": "c7336e5d-9384-4df2-e7ca-db4fa08289b6"
      },
      "cell_type": "code",
      "source": [
        "## Training ## Train \n",
        "lr = LogisticRegression()\n",
        "lr.fit(x_train_pca, y_train)"
      ],
      "execution_count": 10,
      "outputs": [
        {
          "output_type": "stream",
          "name": "stderr",
          "text": [
            "/usr/local/lib/python3.7/dist-packages/sklearn/utils/validation.py:993: DataConversionWarning: A column-vector y was passed when a 1d array was expected. Please change the shape of y to (n_samples, ), for example using ravel().\n",
            "  y = column_or_1d(y, warn=True)\n"
          ]
        },
        {
          "output_type": "execute_result",
          "data": {
            "text/plain": [
              "LogisticRegression()"
            ]
          },
          "metadata": {},
          "execution_count": 10
        }
      ]
    },
    {
      "metadata": {
        "id": "R3I1_vU1ZENt",
        "colab": {
          "base_uri": "https://localhost:8080/",
          "height": 0
        },
        "outputId": "9a7956b9-b77b-4466-9ca1-32522e5990aa"
      },
      "cell_type": "code",
      "source": [
        "## Predicting## Predi \n",
        "y_pred_lr = lr.predict(x_test_pca)\n",
        "logistic_regression_score = accuracy_score(y_test, y_pred_lr)\n",
        "logistic_regression_score"
      ],
      "execution_count": 11,
      "outputs": [
        {
          "output_type": "execute_result",
          "data": {
            "text/plain": [
              "0.4054"
            ]
          },
          "metadata": {},
          "execution_count": 11
        }
      ]
    },
    {
      "metadata": {
        "id": "ArqwhzGyhMqB"
      },
      "cell_type": "markdown",
      "source": [
        "### Using Support Vector Machine"
      ]
    },
    {
      "metadata": {
        "id": "TP5TF-TEZwi1",
        "colab": {
          "base_uri": "https://localhost:8080/",
          "height": 0
        },
        "outputId": "7464610d-53fb-42bc-b08a-234ca60b1f22"
      },
      "cell_type": "code",
      "source": [
        "## Training\n",
        "svc = svm.SVC()\n",
        "svc.fit(x_train_pca, y_train)"
      ],
      "execution_count": 12,
      "outputs": [
        {
          "output_type": "stream",
          "name": "stderr",
          "text": [
            "/usr/local/lib/python3.7/dist-packages/sklearn/utils/validation.py:993: DataConversionWarning: A column-vector y was passed when a 1d array was expected. Please change the shape of y to (n_samples, ), for example using ravel().\n",
            "  y = column_or_1d(y, warn=True)\n"
          ]
        },
        {
          "output_type": "execute_result",
          "data": {
            "text/plain": [
              "SVC()"
            ]
          },
          "metadata": {},
          "execution_count": 12
        }
      ]
    },
    {
      "metadata": {
        "id": "rvzdF6DLcjxz",
        "colab": {
          "base_uri": "https://localhost:8080/",
          "height": 0
        },
        "outputId": "6816305f-9eb0-4429-9b0b-217b17e14770"
      },
      "cell_type": "code",
      "source": [
        "# Predi \n",
        "y_pred_svm = svc.predict(x_test_pca)\n",
        "svc_score = accuracy_score(y_test, y_pred_svm)\n",
        "svc_score"
      ],
      "execution_count": 13,
      "outputs": [
        {
          "output_type": "execute_result",
          "data": {
            "text/plain": [
              "0.5158"
            ]
          },
          "metadata": {},
          "execution_count": 13
        }
      ]
    },
    {
      "metadata": {
        "id": "6BHHbcQ2hU6i"
      },
      "cell_type": "markdown",
      "source": [
        "### Using K-neighbours clf"
      ]
    },
    {
      "metadata": {
        "id": "XAb3mkCBdqUt",
        "colab": {
          "base_uri": "https://localhost:8080/",
          "height": 0
        },
        "outputId": "6440f962-90e6-4675-f80d-22e5e246512c"
      },
      "cell_type": "code",
      "source": [
        "# Train \n",
        "knn = KNeighborsClassifier()\n",
        "knn.fit(x_train_pca, y_train)"
      ],
      "execution_count": 14,
      "outputs": [
        {
          "output_type": "stream",
          "name": "stderr",
          "text": [
            "/usr/local/lib/python3.7/dist-packages/sklearn/neighbors/_classification.py:198: DataConversionWarning: A column-vector y was passed when a 1d array was expected. Please change the shape of y to (n_samples,), for example using ravel().\n",
            "  return self._fit(X, y)\n"
          ]
        },
        {
          "output_type": "execute_result",
          "data": {
            "text/plain": [
              "KNeighborsClassifier()"
            ]
          },
          "metadata": {},
          "execution_count": 14
        }
      ]
    },
    {
      "metadata": {
        "id": "rgXwvUUUdti8",
        "colab": {
          "base_uri": "https://localhost:8080/",
          "height": 0
        },
        "outputId": "d2126db1-337b-4b5b-a2f4-d5196534723b"
      },
      "cell_type": "code",
      "source": [
        "# Predi \n",
        "y_pred_knn = knn.predict(x_test_pca)\n",
        "\n",
        "knn_score = accuracy_score(y_test, y_pred_knn)\n",
        "knn_score"
      ],
      "execution_count": 15,
      "outputs": [
        {
          "output_type": "execute_result",
          "data": {
            "text/plain": [
              "0.1768"
            ]
          },
          "metadata": {},
          "execution_count": 15
        }
      ]
    },
    {
      "cell_type": "code",
      "source": [
        "from tensorflow.keras.utils import to_categorical\n",
        "from keras.models import Sequential\n",
        "from keras.layers import Conv2D\n",
        "from keras.layers import MaxPooling2D\n",
        "from keras.layers import Dense\n",
        "from keras.layers import Flatten\n",
        "from keras.optimizers import *\n",
        "import keras\n",
        "import tensorflow as tf\n",
        "\n",
        "(x_train, y_train), (x_test, y_test) = cifar10.load_data()\n",
        "\n",
        "x_train = x_train / 255.0\n",
        "x_test = x_test / 255.0\n",
        "\n",
        "trainY = to_categorical(y_train)\n",
        "testY = to_categorical(y_test)"
      ],
      "metadata": {
        "id": "K5tJexzUnycN"
      },
      "execution_count": 24,
      "outputs": []
    },
    {
      "cell_type": "code",
      "source": [
        "def define_model():\n",
        "\tmodel = Sequential()\n",
        "\tmodel.add(Conv2D(32, (3, 3), activation='relu', kernel_initializer='he_uniform', padding='same', input_shape=(32, 32, 3)))\n",
        "\tmodel.add(Conv2D(32, (3, 3), activation='relu', kernel_initializer='he_uniform', padding='same'))\n",
        "\tmodel.add(MaxPooling2D((2, 2)))\n",
        "\tmodel.add(Conv2D(64, (3, 3), activation='relu', kernel_initializer='he_uniform', padding='same'))\n",
        "\tmodel.add(Conv2D(64, (3, 3), activation='relu', kernel_initializer='he_uniform', padding='same'))\n",
        "\tmodel.add(MaxPooling2D((2, 2)))\n",
        "\tmodel.add(Conv2D(128, (3, 3), activation='relu', kernel_initializer='he_uniform', padding='same'))\n",
        "\tmodel.add(Conv2D(128, (3, 3), activation='relu', kernel_initializer='he_uniform', padding='same'))\n",
        "\tmodel.add(MaxPooling2D((2, 2)))\n",
        "\tmodel.add(Flatten())\n",
        "\tmodel.add(Dense(128, activation='relu', kernel_initializer='he_uniform'))\n",
        "\tmodel.add(Dense(10, activation='softmax'))\n",
        "\t# compile model\n",
        "\topt = tf.keras.optimizers.SGD(lr=0.001, momentum=0.9)\n",
        "\tmodel.compile(optimizer=opt, loss='categorical_crossentropy', metrics=['accuracy'])\n",
        "\treturn model"
      ],
      "metadata": {
        "id": "ywoNFYblnzD8"
      },
      "execution_count": 25,
      "outputs": []
    },
    {
      "cell_type": "code",
      "source": [
        "model = define_model()\n",
        "\t# fit model\n",
        "model.fit(x_train, trainY, epochs=20, batch_size=64, verbose=1)\n",
        "\t# save model\n",
        "model.save('final_model.h5')"
      ],
      "metadata": {
        "colab": {
          "base_uri": "https://localhost:8080/",
          "height": 0
        },
        "id": "W9IcwRmznzQf",
        "outputId": "0dad8fd4-663b-481e-acc8-ff053730c5a8"
      },
      "execution_count": 27,
      "outputs": [
        {
          "output_type": "stream",
          "name": "stderr",
          "text": [
            "/usr/local/lib/python3.7/dist-packages/keras/optimizer_v2/gradient_descent.py:102: UserWarning: The `lr` argument is deprecated, use `learning_rate` instead.\n",
            "  super(SGD, self).__init__(name, **kwargs)\n"
          ]
        },
        {
          "output_type": "stream",
          "name": "stdout",
          "text": [
            "Epoch 1/20\n",
            "782/782 [==============================] - 7s 8ms/step - loss: 1.7182 - accuracy: 0.3789\n",
            "Epoch 2/20\n",
            "782/782 [==============================] - 7s 9ms/step - loss: 1.3624 - accuracy: 0.5118\n",
            "Epoch 3/20\n",
            "782/782 [==============================] - 6s 8ms/step - loss: 1.2064 - accuracy: 0.5736\n",
            "Epoch 4/20\n",
            "782/782 [==============================] - 7s 9ms/step - loss: 1.0784 - accuracy: 0.6197\n",
            "Epoch 5/20\n",
            "782/782 [==============================] - 6s 8ms/step - loss: 0.9809 - accuracy: 0.6576\n",
            "Epoch 6/20\n",
            "782/782 [==============================] - 6s 8ms/step - loss: 0.9013 - accuracy: 0.6859\n",
            "Epoch 7/20\n",
            "782/782 [==============================] - 7s 9ms/step - loss: 0.8303 - accuracy: 0.7104\n",
            "Epoch 8/20\n",
            "782/782 [==============================] - 6s 8ms/step - loss: 0.7686 - accuracy: 0.7307\n",
            "Epoch 9/20\n",
            "782/782 [==============================] - 6s 8ms/step - loss: 0.7124 - accuracy: 0.7518\n",
            "Epoch 10/20\n",
            "782/782 [==============================] - 6s 8ms/step - loss: 0.6606 - accuracy: 0.7707\n",
            "Epoch 11/20\n",
            "782/782 [==============================] - 6s 8ms/step - loss: 0.6074 - accuracy: 0.7871\n",
            "Epoch 12/20\n",
            "782/782 [==============================] - 6s 8ms/step - loss: 0.5563 - accuracy: 0.8058\n",
            "Epoch 13/20\n",
            "782/782 [==============================] - 7s 9ms/step - loss: 0.5130 - accuracy: 0.8204\n",
            "Epoch 14/20\n",
            "782/782 [==============================] - 6s 8ms/step - loss: 0.4602 - accuracy: 0.8380\n",
            "Epoch 15/20\n",
            "782/782 [==============================] - 7s 8ms/step - loss: 0.4182 - accuracy: 0.8538\n",
            "Epoch 16/20\n",
            "782/782 [==============================] - 6s 8ms/step - loss: 0.3779 - accuracy: 0.8685\n",
            "Epoch 17/20\n",
            "782/782 [==============================] - 6s 8ms/step - loss: 0.3366 - accuracy: 0.8807\n",
            "Epoch 18/20\n",
            "782/782 [==============================] - 6s 8ms/step - loss: 0.2967 - accuracy: 0.8960\n",
            "Epoch 19/20\n",
            "782/782 [==============================] - 6s 8ms/step - loss: 0.2666 - accuracy: 0.9071\n",
            "Epoch 20/20\n",
            "782/782 [==============================] - 6s 8ms/step - loss: 0.2249 - accuracy: 0.9207\n"
          ]
        }
      ]
    },
    {
      "cell_type": "code",
      "source": [
        "_, acc = model.evaluate(x_test, testY, verbose=1)\n",
        "print('> %.3f' % (acc * 100.0))\n",
        "cnn_acc = acc * 100"
      ],
      "metadata": {
        "colab": {
          "base_uri": "https://localhost:8080/",
          "height": 0
        },
        "id": "Zj72rYAanzY4",
        "outputId": "570d6e99-1d94-4e18-f078-df54d98b82b9"
      },
      "execution_count": 30,
      "outputs": [
        {
          "output_type": "stream",
          "name": "stdout",
          "text": [
            "313/313 [==============================] - 1s 4ms/step - loss: 1.2257 - accuracy: 0.6965\n",
            "> 69.650\n"
          ]
        }
      ]
    },
    {
      "metadata": {
        "id": "UjYGMk1Chc4p"
      },
      "cell_type": "markdown",
      "source": [
        "## Comparing All the classifier"
      ]
    },
    {
      "metadata": {
        "id": "escVocuSdjl_",
        "colab": {
          "base_uri": "https://localhost:8080/",
          "height": 0
        },
        "outputId": "59b7911e-f0a4-4c31-d588-cb6688e4dce3"
      },
      "cell_type": "code",
      "source": [
        "print(\"RandomForest \", random_forest_score)\n",
        "print(\"SVM : \", svc_score)\n",
        "print(\"KNN \", knn_score)\n",
        "print(\"Logistic Regression : \", logistic_regression_score)\n",
        "print(\"CNN : \",cnn_acc)"
      ],
      "execution_count": 31,
      "outputs": [
        {
          "output_type": "stream",
          "name": "stdout",
          "text": [
            "RandomForest  0.4153\n",
            "SVM :  0.5158\n",
            "KNN  0.1768\n",
            "Logistic Regression :  0.4054\n",
            "CNN :  69.65000033378601\n"
          ]
        }
      ]
    },
    {
      "cell_type": "markdown",
      "source": [
        "### Random Forest Metrics\n",
        "\n"
      ],
      "metadata": {
        "id": "o2pMuOyNtDM2"
      }
    },
    {
      "cell_type": "code",
      "source": [
        "# Making the Confusion Matrix \n",
        "\n",
        "from sklearn.metrics import confusion_matrix\n",
        "cm = confusion_matrix(y_test, y_pred_rf)\n",
        "\n",
        "from sklearn.metrics import plot_confusion_matrix\n",
        "plot_confusion_matrix(rf, x_test_pca, y_test)  \n",
        "plt.show()\n",
        "\n",
        "class_names = ['airplane',\t\t\t\t\t\t\n",
        "'automobile', \t\t\t\t\t\t\t\t\t\t\n",
        "'bird', \t\t\t\t\t\t\t\t\t\t\n",
        "'cat',\t\t\t\t\t\t\t\t\t\t\n",
        "'deer', \t\t\t\t\t\t\t\t\t\t\n",
        "'dog', \t\t\t\t\t\t\t\t\t\t\n",
        "'frog', \t\t\t\t\t\t\t\t\t\t\n",
        "'horse', \t\t\t\t\t\t\t\t\t\t\n",
        "'ship', \t\t\t\t\t\t\t\t\t\t\n",
        "'truck']\n",
        "\n",
        "\n",
        "from sklearn.metrics import classification_report\n",
        "print(classification_report(y_test, y_pred_rf, target_names=class_names))"
      ],
      "metadata": {
        "id": "9faN70v5dUbs",
        "colab": {
          "base_uri": "https://localhost:8080/",
          "height": 629
        },
        "outputId": "dfd0785c-db47-41e4-cea2-d50920f6acc6"
      },
      "execution_count": 44,
      "outputs": [
        {
          "output_type": "stream",
          "name": "stderr",
          "text": [
            "/usr/local/lib/python3.7/dist-packages/sklearn/utils/deprecation.py:87: FutureWarning: Function plot_confusion_matrix is deprecated; Function `plot_confusion_matrix` is deprecated in 1.0 and will be removed in 1.2. Use one of the class methods: ConfusionMatrixDisplay.from_predictions or ConfusionMatrixDisplay.from_estimator.\n",
            "  warnings.warn(msg, category=FutureWarning)\n"
          ]
        },
        {
          "output_type": "display_data",
          "data": {
            "text/plain": [
              "<Figure size 432x288 with 2 Axes>"
            ],
            "image/png": "[encoded data removed]"
          },
          "metadata": {
            "needs_background": "light"
          }
        },
        {
          "output_type": "stream",
          "name": "stdout",
          "text": [
            "              precision    recall  f1-score   support\n",
            "\n",
            "    airplane       0.46      0.51      0.49      1000\n",
            "  automobile       0.45      0.53      0.49      1000\n",
            "        bird       0.30      0.26      0.28      1000\n",
            "         cat       0.29      0.25      0.27      1000\n",
            "        deer       0.41      0.40      0.41      1000\n",
            "         dog       0.35      0.33      0.34      1000\n",
            "        frog       0.46      0.51      0.48      1000\n",
            "       horse       0.45      0.35      0.39      1000\n",
            "        ship       0.49      0.56      0.52      1000\n",
            "       truck       0.44      0.45      0.45      1000\n",
            "\n",
            "    accuracy                           0.42     10000\n",
            "   macro avg       0.41      0.42      0.41     10000\n",
            "weighted avg       0.41      0.42      0.41     10000\n",
            "\n"
          ]
        }
      ]
    },
    {
      "cell_type": "markdown",
      "source": [
        "### SVM Metrics\n"
      ],
      "metadata": {
        "id": "nAAE4w3EuplJ"
      }
    },
    {
      "cell_type": "code",
      "source": [
        "\n",
        "# Making the Confusion Matrix \n",
        "\n",
        "from sklearn.metrics import confusion_matrix\n",
        "cm = confusion_matrix(y_test, y_pred_svm)\n",
        "\n",
        "from sklearn.metrics import plot_confusion_matrix\n",
        "plot_confusion_matrix(svc, x_test_pca, y_test)  \n",
        "plt.show()\n",
        "\n",
        "\n",
        "from sklearn.metrics import classification_report\n",
        "print(classification_report(y_test, y_pred_svm, target_names=class_names))"
      ],
      "metadata": {
        "colab": {
          "base_uri": "https://localhost:8080/",
          "height": 629
        },
        "id": "wB1lFj0DqwVw",
        "outputId": "40ffe455-62fa-4c44-e0e0-24b76ae2978c"
      },
      "execution_count": 46,
      "outputs": [
        {
          "output_type": "stream",
          "name": "stderr",
          "text": [
            "/usr/local/lib/python3.7/dist-packages/sklearn/utils/deprecation.py:87: FutureWarning: Function plot_confusion_matrix is deprecated; Function `plot_confusion_matrix` is deprecated in 1.0 and will be removed in 1.2. Use one of the class methods: ConfusionMatrixDisplay.from_predictions or ConfusionMatrixDisplay.from_estimator.\n",
            "  warnings.warn(msg, category=FutureWarning)\n"
          ]
        },
        {
          "output_type": "display_data",
          "data": {
            "text/plain": [
              "<Figure size 432x288 with 2 Axes>"
            ],
            "image/png": "[encoded data removed]"
          },
          "metadata": {
            "needs_background": "light"
          }
        },
        {
          "output_type": "stream",
          "name": "stdout",
          "text": [
            "              precision    recall  f1-score   support\n",
            "\n",
            "    airplane       0.60      0.57      0.58      1000\n",
            "  automobile       0.54      0.66      0.59      1000\n",
            "        bird       0.41      0.38      0.39      1000\n",
            "         cat       0.38      0.38      0.38      1000\n",
            "        deer       0.49      0.42      0.45      1000\n",
            "         dog       0.44      0.40      0.42      1000\n",
            "        frog       0.56      0.56      0.56      1000\n",
            "       horse       0.59      0.55      0.57      1000\n",
            "        ship       0.67      0.63      0.65      1000\n",
            "       truck       0.49      0.61      0.55      1000\n",
            "\n",
            "    accuracy                           0.52     10000\n",
            "   macro avg       0.52      0.52      0.51     10000\n",
            "weighted avg       0.52      0.52      0.51     10000\n",
            "\n"
          ]
        }
      ]
    },
    {
      "cell_type": "markdown",
      "source": [
        "### KNN Metrics"
      ],
      "metadata": {
        "id": "d-6wxgZxu9q4"
      }
    },
    {
      "cell_type": "code",
      "source": [
        "\n",
        "# Making the Confusion Matrix \n",
        "\n",
        "from sklearn.metrics import confusion_matrix\n",
        "cm = confusion_matrix(y_test, y_pred_knn)\n",
        "\n",
        "from sklearn.metrics import plot_confusion_matrix\n",
        "plot_confusion_matrix(knn, x_test_pca, y_test)  \n",
        "plt.show()\n",
        "\n",
        "\n",
        "from sklearn.metrics import classification_report\n",
        "print(classification_report(y_test, y_pred_knn, target_names=class_names))"
      ],
      "metadata": {
        "colab": {
          "base_uri": "https://localhost:8080/",
          "height": 629
        },
        "id": "Tki3cVfBtkJq",
        "outputId": "4d390f11-507b-4cae-9ac4-477252085a28"
      },
      "execution_count": 47,
      "outputs": [
        {
          "output_type": "stream",
          "name": "stderr",
          "text": [
            "/usr/local/lib/python3.7/dist-packages/sklearn/utils/deprecation.py:87: FutureWarning: Function plot_confusion_matrix is deprecated; Function `plot_confusion_matrix` is deprecated in 1.0 and will be removed in 1.2. Use one of the class methods: ConfusionMatrixDisplay.from_predictions or ConfusionMatrixDisplay.from_estimator.\n",
            "  warnings.warn(msg, category=FutureWarning)\n"
          ]
        },
        {
          "output_type": "display_data",
          "data": {
            "text/plain": [
              "<Figure size 432x288 with 2 Axes>"
            ],
            "image/png": "[encoded data removed]"
          },
          "metadata": {
            "needs_background": "light"
          }
        },
        {
          "output_type": "stream",
          "name": "stdout",
          "text": [
            "              precision    recall  f1-score   support\n",
            "\n",
            "    airplane       0.19      0.30      0.23      1000\n",
            "  automobile       1.00      0.02      0.04      1000\n",
            "        bird       0.24      0.12      0.16      1000\n",
            "         cat       0.23      0.03      0.06      1000\n",
            "        deer       0.17      0.46      0.25      1000\n",
            "         dog       0.44      0.01      0.02      1000\n",
            "        frog       0.51      0.03      0.06      1000\n",
            "       horse       0.67      0.00      0.01      1000\n",
            "        ship       0.16      0.79      0.26      1000\n",
            "       truck       1.00      0.00      0.00      1000\n",
            "\n",
            "    accuracy                           0.18     10000\n",
            "   macro avg       0.46      0.18      0.11     10000\n",
            "weighted avg       0.46      0.18      0.11     10000\n",
            "\n"
          ]
        }
      ]
    },
    {
      "cell_type": "markdown",
      "source": [
        "### Logistic Metrics"
      ],
      "metadata": {
        "id": "SI3EFrWQu8bo"
      }
    },
    {
      "cell_type": "code",
      "source": [
        "\n",
        "# Making the Confusion Matrix \n",
        "\n",
        "from sklearn.metrics import confusion_matrix\n",
        "cm = confusion_matrix(y_test, y_pred_lr)\n",
        "\n",
        "from sklearn.metrics import plot_confusion_matrix\n",
        "plot_confusion_matrix(lr, x_test_pca, y_test)  \n",
        "plt.show()\n",
        "\n",
        "\n",
        "from sklearn.metrics import classification_report\n",
        "print(classification_report(y_test, y_pred_lr, target_names=class_names))"
      ],
      "metadata": {
        "colab": {
          "base_uri": "https://localhost:8080/",
          "height": 629
        },
        "id": "TsBwFw-UqfML",
        "outputId": "ca98caf6-ca09-40c8-d509-ef522f718991"
      },
      "execution_count": 48,
      "outputs": [
        {
          "output_type": "stream",
          "name": "stderr",
          "text": [
            "/usr/local/lib/python3.7/dist-packages/sklearn/utils/deprecation.py:87: FutureWarning: Function plot_confusion_matrix is deprecated; Function `plot_confusion_matrix` is deprecated in 1.0 and will be removed in 1.2. Use one of the class methods: ConfusionMatrixDisplay.from_predictions or ConfusionMatrixDisplay.from_estimator.\n",
            "  warnings.warn(msg, category=FutureWarning)\n"
          ]
        },
        {
          "output_type": "display_data",
          "data": {
            "text/plain": [
              "<Figure size 432x288 with 2 Axes>"
            ],
            "image/png": "[encoded data removed]"
          },
          "metadata": {
            "needs_background": "light"
          }
        },
        {
          "output_type": "stream",
          "name": "stdout",
          "text": [
            "              precision    recall  f1-score   support\n",
            "\n",
            "    airplane       0.45      0.48      0.47      1000\n",
            "  automobile       0.46      0.47      0.47      1000\n",
            "        bird       0.32      0.28      0.30      1000\n",
            "         cat       0.29      0.27      0.28      1000\n",
            "        deer       0.36      0.30      0.33      1000\n",
            "         dog       0.33      0.33      0.33      1000\n",
            "        frog       0.41      0.48      0.44      1000\n",
            "       horse       0.46      0.45      0.45      1000\n",
            "        ship       0.49      0.53      0.51      1000\n",
            "       truck       0.44      0.46      0.45      1000\n",
            "\n",
            "    accuracy                           0.41     10000\n",
            "   macro avg       0.40      0.41      0.40     10000\n",
            "weighted avg       0.40      0.41      0.40     10000\n",
            "\n"
          ]
        }
      ]
    },
    {
      "cell_type": "code",
      "source": [
        "!jupyter nbconvert --to PDF '/content/cifar10.ipynb'"
      ],
      "metadata": {
        "colab": {
          "base_uri": "https://localhost:8080/"
        },
        "id": "2lKPhDAAvUfz",
        "outputId": "50ec2102-fd85-4998-ee7d-1123e7b5f337"
      },
      "execution_count": 54,
      "outputs": [
        {
          "output_type": "stream",
          "name": "stdout",
          "text": [
            "[NbConvertApp] Converting notebook /content/cifar10.ipynb to PDF\n",
            "[NbConvertApp] Support files will be in cifar10_files/\n",
            "[NbConvertApp] Making directory ./cifar10_files\n",
            "[NbConvertApp] Making directory ./cifar10_files\n",
            "[NbConvertApp] Making directory ./cifar10_files\n",
            "[NbConvertApp] Making directory ./cifar10_files\n",
            "[NbConvertApp] Writing 58762 bytes to ./notebook.tex\n",
            "[NbConvertApp] Building PDF\n",
            "[NbConvertApp] Running xelatex 3 times: ['xelatex', './notebook.tex', '-quiet']\n",
            "[NbConvertApp] Running bibtex 1 time: ['bibtex', './notebook']\n",
            "[NbConvertApp] WARNING | bibtex had problems, most likely because there were no citations\n",
            "[NbConvertApp] PDF successfully created\n",
            "[NbConvertApp] Writing 168246 bytes to /content/cifar10.pdf\n"
          ]
        }
      ]
    },
    {
      "cell_type": "code",
      "source": [
        ""
      ],
      "metadata": {
        "id": "znwxu6TNwRr0"
      },
      "execution_count": null,
      "outputs": []
    }
  ]
}